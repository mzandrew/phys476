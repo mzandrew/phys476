{
 "cells": [
  {
   "cell_type": "code",
   "execution_count": 5,
   "id": "e3a6cda1",
   "metadata": {},
   "outputs": [],
   "source": [
    "import numpy as np\n",
    "import matplotlib.pyplot as plt"
   ]
  },
  {
   "cell_type": "code",
   "execution_count": 6,
   "id": "445c244d",
   "metadata": {},
   "outputs": [],
   "source": [
    "sample_0 = np.load('waveform_data_0.npy')"
   ]
  },
  {
   "cell_type": "markdown",
   "id": "1f1ab456",
   "metadata": {},
   "source": [
    "## Take a look at the sample"
   ]
  },
  {
   "cell_type": "code",
   "execution_count": 7,
   "id": "7c3e23af",
   "metadata": {},
   "outputs": [
    {
     "data": {
      "text/plain": [
       "(10000, 104)"
      ]
     },
     "execution_count": 7,
     "metadata": {},
     "output_type": "execute_result"
    }
   ],
   "source": [
    "sample_0.shape"
   ]
  },
  {
   "cell_type": "code",
   "execution_count": 8,
   "id": "ba7a50c0",
   "metadata": {},
   "outputs": [
    {
     "name": "stdout",
     "output_type": "stream",
     "text": [
      "[[ 45.77531815   8.48169518 436.07510376 ... 366.         360.\n",
      "  364.        ]\n",
      " [ 49.89034271   4.14777613 366.75213623 ... 395.         453.\n",
      "  408.        ]\n",
      " [ 36.79280853   7.2681036  290.6338501  ... 318.         310.\n",
      "  254.        ]\n",
      " ...\n",
      " [ 34.10929108   5.1194849  184.78193665 ... 296.         268.\n",
      "  231.        ]\n",
      " [ 39.16600037   6.30589771 255.33976746 ... 157.         153.\n",
      "  109.        ]\n",
      " [ 58.17848969   7.28236723 460.0456543  ... 208.         213.\n",
      "  186.        ]]\n"
     ]
    }
   ],
   "source": [
    "print(sample_0)"
   ]
  },
  {
   "cell_type": "markdown",
   "id": "8c9cf2c2",
   "metadata": {},
   "source": [
    "## Take a look at one event"
   ]
  },
  {
   "cell_type": "code",
   "execution_count": 20,
   "id": "e482df6d",
   "metadata": {},
   "outputs": [
    {
     "data": {
      "image/png": "[encoded data removed]",
      "text/plain": [
       "<Figure size 640x480 with 1 Axes>"
      ]
     },
     "metadata": {},
     "output_type": "display_data"
    }
   ],
   "source": [
    "# In each row (event), the 4th column to the 103th column are 100 data points of a single waveform\n",
    "\n",
    "# Here we plot the first event:\n",
    "\n",
    "evt = 0\n",
    "\n",
    "x = np.zeros(100)\n",
    "for i in range(100):\n",
    "    x[i] = i\n",
    "\n",
    "y = sample_0[evt][4:104]\n",
    "plt.scatter(x, y)\n",
    "plt.show()\n",
    "\n"
   ]
  },
  {
   "cell_type": "code",
   "execution_count": 26,
   "id": "4744ddc2",
   "metadata": {},
   "outputs": [
    {
     "name": "stdout",
     "output_type": "stream",
     "text": [
      "mean of the peak:  45.77531814575195\n",
      "sigma of the peak:  8.481695175170898\n",
      "height of the peak:  436.0751037597656\n",
      "pedestal of the waveform:  409.2980041503906\n"
     ]
    }
   ],
   "source": [
    "# The 0th column: mean of the Gaussian peak\n",
    "# The 1st column: sigma of the Gaussian peak\n",
    "# The 2nd column: height of the Gaussian peak\n",
    "# The 3rd column: pedestal of the waveform\n",
    "\n",
    "print(\"mean of the peak: \", sample_0[evt][0]) \n",
    "print(\"sigma of the peak: \", sample_0[evt][1]) \n",
    "print(\"height of the peak: \", sample_0[evt][2]) \n",
    "print(\"pedestal of the waveform: \", sample_0[evt][3]) "
   ]
  },
  {
   "cell_type": "code",
   "execution_count": null,
   "id": "0d32e2e6",
   "metadata": {},
   "outputs": [],
   "source": []
  }
 ],
 "metadata": {
  "kernelspec": {
   "display_name": "Python 3 (ipykernel)",
   "language": "python",
   "name": "python3"
  },
  "language_info": {
   "codemirror_mode": {
    "name": "ipython",
    "version": 3
   },
   "file_extension": ".py",
   "mimetype": "text/x-python",
   "name": "python",
   "nbconvert_exporter": "python",
   "pygments_lexer": "ipython3",
   "version": "3.10.10"
  }
 },
 "nbformat": 4,
 "nbformat_minor": 5
}
