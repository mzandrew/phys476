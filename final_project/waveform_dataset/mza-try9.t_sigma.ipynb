{
 "cells": [
  {
   "cell_type": "code",
   "execution_count": 1,
   "id": "3fcc5749",
   "metadata": {},
   "outputs": [],
   "source": [
    "# mostly pulled from hls4ml_3.ipynb and waveform_demo.ipynb\n",
    "# last updated 2025-05-06 by mza\n",
    "name = \"mza_try9\"\n",
    "num_epochs = 10000\n",
    "batch_size = 1000\n",
    "hidden_nodes = [ 512, 512, 512 ]\n",
    "hidden_node_type = \"relu\"\n",
    "truths_to_use = [ 1 ] # t_peak, t_sigma, height, pedestal\n",
    "use_pruning = False\n",
    "prune_ratio = 0.1\n",
    "train = True\n",
    "synth_hls = True\n",
    "integer_part = 1\n",
    "input_quantization = 16\n",
    "inner_quantization = 16\n",
    "output_quantization = 16"
   ]
  },
  {
   "cell_type": "code",
   "execution_count": 2,
   "id": "896e5db8",
   "metadata": {},
   "outputs": [],
   "source": [
    "import os, errno\n",
    "os.environ['TF_CPP_MIN_LOG_LEVEL'] = '2'\n",
    "os.environ['PATH'] = os.environ['XILINX_VIVADO'] + '/bin:' + os.environ['PATH']\n",
    "import numpy as np\n",
    "seed = 0\n",
    "np.random.seed(seed)\n",
    "import matplotlib.pyplot as plt\n",
    "try:\n",
    "    os.mkdir(name)\n",
    "except OSError as exception:\n",
    "    if exception.errno != errno.EEXIST:\n",
    "        raise"
   ]
  },
  {
   "cell_type": "code",
   "execution_count": 3,
   "id": "ba7a50c0",
   "metadata": {},
   "outputs": [
    {
     "name": "stdout",
     "output_type": "stream",
     "text": [
      "num_waveforms: 20000\n",
      "num_truths_to_use: 1\n",
      "train_data.shape: (16000, 100)\n",
      "train_truth.shape: (16000, 1)\n",
      "test_data.shape: (4000, 100)\n",
      "test_truth.shape: (4000, 1)\n"
     ]
    }
   ],
   "source": [
    "dataset1 = np.load('waveform_data_0.npy') # (10000, 104)\n",
    "dataset2 = np.load('waveform_data_1.npy') # (10000, 104)\n",
    "dataset = np.concatenate((dataset1, dataset2))\n",
    "num_waveforms = len(dataset)\n",
    "training_quantity = int(0.8 * num_waveforms)\n",
    "num_truths = 4\n",
    "time_samples = len(dataset[0]) - num_truths\n",
    "print(\"num_waveforms: \" + str(num_waveforms))\n",
    "num_truths_to_use = len(truths_to_use)\n",
    "print(\"num_truths_to_use: \" + str(num_truths_to_use))\n",
    "waveforms = dataset[:,num_truths:]\n",
    "truths = dataset[:,:num_truths]\n",
    "waveform_min = min([ min(waveforms[i]) for i in range(len(waveforms)) ])\n",
    "waveform_max = max([ max(waveforms[i]) for i in range(len(waveforms)) ])\n",
    "offset = waveform_min\n",
    "gain = 1.0 / (waveform_max - waveform_min)\n",
    "scaled_waveforms = np.array([ [ gain * (waveforms[j,i] - offset) for i in range(time_samples) ] for j in range(num_waveforms) ])\n",
    "scaled_truths = np.array([ [ truths[j,0]/time_samples, truths[j,1]/time_samples, gain * (truths[j,2] - offset), gain * (truths[j,3] - offset) ] for j in range(num_waveforms) ])\n",
    "train_data = scaled_waveforms[:training_quantity,:]\n",
    "print(\"train_data.shape: \" + str(train_data.shape))\n",
    "train_truth = scaled_truths[:training_quantity,truths_to_use]\n",
    "print(\"train_truth.shape: \" + str(train_truth.shape))\n",
    "test_data = scaled_waveforms[training_quantity:,:]\n",
    "print(\"test_data.shape: \" + str(test_data.shape))\n",
    "test_truth = scaled_truths[training_quantity:,truths_to_use]\n",
    "print(\"test_truth.shape: \" + str(test_truth.shape))"
   ]
  },
  {
   "cell_type": "code",
   "execution_count": 4,
   "id": "e482df6d",
   "metadata": {},
   "outputs": [],
   "source": [
    "evt = 8\n",
    "if 0:\n",
    "    x = np.zeros(time_samples)\n",
    "    for i in range(time_samples):\n",
    "        x[i] = i/time_samples\n",
    "    y = train_data[evt]\n",
    "    plt.xlim(0, 1), plt.ylim(0, 1)\n",
    "    plt.scatter(x, y)\n",
    "    plt.plot([train_truth[evt][0], train_truth[evt][0]], [0.0, 1.0], color=\"green\")\n",
    "    plt.show()"
   ]
  },
  {
   "cell_type": "code",
   "execution_count": 5,
   "id": "4744ddc2",
   "metadata": {},
   "outputs": [
    {
     "name": "stdout",
     "output_type": "stream",
     "text": [
      "time position of the peak:  0.09679624557495117\n"
     ]
    }
   ],
   "source": [
    "print(\"time position of the peak: \", train_truth[evt][0]) # The 0th column: mean of the Gaussian peak"
   ]
  },
  {
   "cell_type": "code",
   "execution_count": 6,
   "id": "8115e2d3",
   "metadata": {},
   "outputs": [],
   "source": [
    "import tensorflow as tf\n",
    "tf.random.set_seed(seed)\n",
    "from tensorflow.keras.models import Sequential\n",
    "from tensorflow.keras.regularizers import l1\n",
    "from tensorflow.keras.layers import Activation\n",
    "from tensorflow.keras import optimizers\n",
    "from callbacks import all_callbacks\n",
    "from qkeras.qlayers import QDense, QActivation\n",
    "from qkeras.quantizers import quantized_bits, quantized_relu, quantized_sigmoid"
   ]
  },
  {
   "cell_type": "code",
   "execution_count": 7,
   "id": "004b7f32",
   "metadata": {},
   "outputs": [],
   "source": [
    "input_quantizer = quantized_bits(input_quantization, integer_part, alpha=1)\n",
    "inner_quantizer = quantized_bits(inner_quantization, integer_part, alpha=1)\n",
    "output_quantizer = quantized_bits(output_quantization, integer_part, alpha=1)\n",
    "output_quantization_string = 'ap_fixed<' + str(output_quantization) + ',' + str(integer_part) + '>'\n",
    "if hidden_node_type==\"relu\":\n",
    "    hidden_activations = [ quantized_relu(inner_quantization) for i in range(len(hidden_nodes)) ]\n",
    "else:\n",
    "    hidden_activations = [ quantized_sigmoid(inner_quantization) for i in range(len(hidden_nodes)) ]\n",
    "hidden_names = [ hidden_node_type for i in range(len(hidden_nodes)) ]\n",
    "model = Sequential()\n",
    "model.add(QDense(time_samples, input_shape=(time_samples,), name='input_qdense', kernel_quantizer=input_quantizer, bias_quantizer=input_quantizer, kernel_initializer='glorot_uniform'))\n",
    "model.add(QActivation(activation=quantized_sigmoid(input_quantization), name='input_sigmoid'))\n",
    "for i in range(len(hidden_nodes)):\n",
    "    model.add(QDense(hidden_nodes[i], name=hidden_names[i] + str(i) + \"qdense\", kernel_quantizer=inner_quantizer, bias_quantizer=inner_quantizer, kernel_initializer='glorot_uniform'))\n",
    "    model.add(QActivation(activation=hidden_activations[i], name=hidden_names[i] + str(i) + \"activation\"))\n",
    "model.add(QDense(num_truths_to_use, name='output_qdense', kernel_quantizer=output_quantizer, bias_quantizer=output_quantizer, kernel_initializer='glorot_uniform'))\n",
    "if num_truths_to_use<2:\n",
    "    model.add(Activation(activation='sigmoid', name='output_sigmoid'))\n",
    "else:\n",
    "    model.add(Activation(activation='softmax', name='output_softmax'))"
   ]
  },
  {
   "cell_type": "code",
   "execution_count": 8,
   "id": "955b80b7",
   "metadata": {},
   "outputs": [],
   "source": [
    "if use_pruning:\n",
    "    from tensorflow_model_optimization.python.core.sparsity.keras import prune, pruning_callbacks, pruning_schedule\n",
    "    from tensorflow_model_optimization.sparsity.keras import strip_pruning\n",
    "    # the first argument is the percentage of the weights that will be forced to be 0\n",
    "    pruning_params = {\"pruning_schedule\": pruning_schedule.ConstantSparsity(prune_ratio, begin_step=2000, frequency=100)}\n",
    "    model = prune.prune_low_magnitude(model, **pruning_params)"
   ]
  },
  {
   "cell_type": "code",
   "execution_count": 9,
   "id": "89858d69",
   "metadata": {},
   "outputs": [
    {
     "name": "stderr",
     "output_type": "stream",
     "text": [
      "/root/anaconda3/envs/hls4ml-tutorial/lib/python3.10/site-packages/keras/src/constraints.py:365: UserWarning: The `keras.constraints.serialize()` API should only be used for objects of type `keras.constraints.Constraint`. Found an instance of type <class 'qkeras.quantizers.quantized_bits'>, which may lead to improper serialization.\n",
      "  warnings.warn(\n"
     ]
    }
   ],
   "source": [
    "if train:\n",
    "    #optimizer = optimizers.Adam(learning_rate=0.0001)\n",
    "    optimizer = optimizers.SGD(learning_rate=0.1)\n",
    "    #model.compile(optimizer=optimizer, loss=['categorical_crossentropy'], metrics=['accuracy'])\n",
    "    model.compile(optimizer=optimizer, loss=['mse'])\n",
    "    if use_pruning:\n",
    "        callbacks = all_callbacks(stop_patience=1000, lr_factor=0.5, lr_patience=10, lr_epsilon=0.000001, lr_cooldown=2, lr_minimum=0.0000001, outputDir=name)\n",
    "        callbacks.callbacks.append(pruning_callbacks.UpdatePruningStep())\n",
    "        model.fit(train_data, train_truth, batch_size=batch_size, epochs=num_epochs, validation_split=0.25, shuffle=False, callbacks=callbacks.callbacks, verbose=0)\n",
    "    else:\n",
    "        model.fit(train_data, train_truth, batch_size=batch_size, epochs=num_epochs, validation_split=0.25, shuffle=False, verbose=0)\n",
    "    #loss, acc = model.evaluate(test_data, test_truth, verbose=0)\n",
    "    if use_pruning:\n",
    "        model = strip_pruning(model)\n",
    "    model.save(name + '/KERAS_check_best_model.keras')\n",
    "else:\n",
    "    from tensorflow.keras.models import load_model\n",
    "    from qkeras.utils import _add_supported_quantized_objects\n",
    "    co = {}\n",
    "    _add_supported_quantized_objects(co)\n",
    "    model = load_model(name + '/KERAS_check_best_model.keras', custom_objects=co) # TypeError: <qkeras.qlayers.QActivation object at 0x774300567100> could not be deserialized properly. Please ensure that components that are Python object instances (layers, models, etc.) returned by `get_config()` are explicitly deserialized in the model's `from_config()` method."
   ]
  },
  {
   "cell_type": "code",
   "execution_count": 10,
   "id": "6c321b43",
   "metadata": {},
   "outputs": [
    {
     "name": "stdout",
     "output_type": "stream",
     "text": [
      "500/500 [==============================] - 1s 2ms/step\n",
      "125/125 [==============================] - 0s 2ms/step\n"
     ]
    }
   ],
   "source": [
    "#print('test_acc: {:.3f}, test_loss: {:.3f}'.format(acc, loss))\n",
    "train_prediction = model.predict(train_data)\n",
    "test_prediction = model.predict(test_data)"
   ]
  },
  {
   "cell_type": "code",
   "execution_count": 11,
   "id": "50f7ec65",
   "metadata": {},
   "outputs": [],
   "source": [
    "evt = 5\n",
    "if 0:\n",
    "    print(str(test_prediction[evt]) + \" : \" + str(test_truth[evt]))\n",
    "    x = np.zeros(time_samples)\n",
    "    for i in range(time_samples):\n",
    "        x[i] = i/time_samples\n",
    "    y = test_data[evt]\n",
    "    plt.xlim(0, 1); plt.ylim(0, 1)\n",
    "    plt.scatter(x, y, color=\"blue\")\n",
    "    plt.plot([test_prediction[evt,0], test_prediction[evt,0]], [0.0, 1.0], color=\"red\")\n",
    "    plt.plot([test_truth[evt,0], test_truth[evt,0]], [0.0, 1.0], color=\"green\")\n",
    "    plt.show()"
   ]
  },
  {
   "cell_type": "code",
   "execution_count": 12,
   "id": "301ec43c",
   "metadata": {},
   "outputs": [],
   "source": [
    "import csv\n",
    "with open(name + '/Input.dat', 'w') as f:\n",
    "    csv.writer(f, delimiter=' ').writerows(test_data)\n",
    "with open(name + '/Output.dat', 'w') as f:\n",
    "    csv.writer(f, delimiter=' ').writerows(test_prediction)"
   ]
  },
  {
   "cell_type": "code",
   "execution_count": 13,
   "id": "284dbe6c",
   "metadata": {},
   "outputs": [
    {
     "name": "stdout",
     "output_type": "stream",
     "text": [
      "Interpreting Sequential\n",
      "Topology:\n",
      "Layer name: input_qdense_input, layer type: InputLayer, input shapes: [[None, 100]], output shape: [None, 100]\n",
      "Layer name: input_qdense, layer type: QDense, input shapes: [[None, 100]], output shape: [None, 100]\n",
      "Layer name: input_sigmoid, layer type: HardActivation, input shapes: [[None, 100]], output shape: [None, 100]\n",
      "Layer name: relu0qdense, layer type: QDense, input shapes: [[None, 100]], output shape: [None, 512]\n",
      "Layer name: relu0activation, layer type: Activation, input shapes: [[None, 512]], output shape: [None, 512]\n",
      "Layer name: relu1qdense, layer type: QDense, input shapes: [[None, 512]], output shape: [None, 512]\n",
      "Layer name: relu1activation, layer type: Activation, input shapes: [[None, 512]], output shape: [None, 512]\n",
      "Layer name: relu2qdense, layer type: QDense, input shapes: [[None, 512]], output shape: [None, 512]\n",
      "Layer name: relu2activation, layer type: Activation, input shapes: [[None, 512]], output shape: [None, 512]\n",
      "Layer name: output_qdense, layer type: QDense, input shapes: [[None, 512]], output shape: [None, 1]\n",
      "Layer name: output_sigmoid, layer type: Activation, input shapes: [[None, 1]], output shape: [None, 1]\n",
      "Model\n",
      "  Precision\n",
      "    default:         fixed<16,6>\n",
      "  ReuseFactor:       1\n",
      "  Strategy:          Latency\n",
      "  BramFactor:        1000000000\n",
      "  TraceOutput:       False\n",
      "LayerName\n",
      "  input_qdense_input\n",
      "    Trace:           False\n",
      "    Precision\n",
      "      result:        auto\n",
      "  input_qdense\n",
      "    Trace:           False\n",
      "    Precision\n",
      "      result:        auto\n",
      "      weight:        fixed<16,2,TRN,WRAP,0>\n",
      "      bias:          fixed<16,2,TRN,WRAP,0>\n",
      "  input_qdense_linear\n",
      "    Trace:           False\n",
      "    Precision\n",
      "      result:        auto\n",
      "  input_sigmoid\n",
      "    Trace:           False\n",
      "    Precision\n",
      "      result:        ufixed<16,0,RND_CONV,SAT,0>\n",
      "      slope:         auto\n",
      "      shift:         auto\n",
      "  relu0qdense\n",
      "    Trace:           False\n",
      "    Precision\n",
      "      result:        auto\n",
      "      weight:        fixed<16,2,TRN,WRAP,0>\n",
      "      bias:          fixed<16,2,TRN,WRAP,0>\n",
      "  relu0qdense_linear\n",
      "    Trace:           False\n",
      "    Precision\n",
      "      result:        auto\n",
      "  relu0activation\n",
      "    Trace:           False\n",
      "    Precision\n",
      "      result:        ufixed<16,0,RND_CONV,SAT,0>\n",
      "  relu1qdense\n",
      "    Trace:           False\n",
      "    Precision\n",
      "      result:        auto\n",
      "      weight:        fixed<16,2,TRN,WRAP,0>\n",
      "      bias:          fixed<16,2,TRN,WRAP,0>\n",
      "  relu1qdense_linear\n",
      "    Trace:           False\n",
      "    Precision\n",
      "      result:        auto\n",
      "  relu1activation\n",
      "    Trace:           False\n",
      "    Precision\n",
      "      result:        ufixed<16,0,RND_CONV,SAT,0>\n",
      "  relu2qdense\n",
      "    Trace:           False\n",
      "    Precision\n",
      "      result:        auto\n",
      "      weight:        fixed<16,2,TRN,WRAP,0>\n",
      "      bias:          fixed<16,2,TRN,WRAP,0>\n",
      "  relu2qdense_linear\n",
      "    Trace:           False\n",
      "    Precision\n",
      "      result:        auto\n",
      "  relu2activation\n",
      "    Trace:           False\n",
      "    Precision\n",
      "      result:        ufixed<16,0,RND_CONV,SAT,0>\n",
      "  output_qdense\n",
      "    Trace:           False\n",
      "    Precision\n",
      "      result:        auto\n",
      "      weight:        fixed<16,2,TRN,WRAP,0>\n",
      "      bias:          fixed<16,2,TRN,WRAP,0>\n",
      "  output_qdense_linear\n",
      "    Trace:           False\n",
      "    Precision\n",
      "      result:        auto\n",
      "  output_sigmoid\n",
      "    Trace:           False\n",
      "    Precision:       ap_fixed<16,1>\n",
      "    exp_table_t:     ap_fixed<16,1>\n",
      "    inv_table_t:     ap_fixed<16,1>\n",
      "Interpreting Sequential\n",
      "Topology:\n",
      "Layer name: input_qdense_input, layer type: InputLayer, input shapes: [[None, 100]], output shape: [None, 100]\n",
      "Layer name: input_qdense, layer type: QDense, input shapes: [[None, 100]], output shape: [None, 100]\n",
      "Layer name: input_sigmoid, layer type: HardActivation, input shapes: [[None, 100]], output shape: [None, 100]\n",
      "Layer name: relu0qdense, layer type: QDense, input shapes: [[None, 100]], output shape: [None, 512]\n",
      "Layer name: relu0activation, layer type: Activation, input shapes: [[None, 512]], output shape: [None, 512]\n",
      "Layer name: relu1qdense, layer type: QDense, input shapes: [[None, 512]], output shape: [None, 512]\n",
      "Layer name: relu1activation, layer type: Activation, input shapes: [[None, 512]], output shape: [None, 512]\n",
      "Layer name: relu2qdense, layer type: QDense, input shapes: [[None, 512]], output shape: [None, 512]\n",
      "Layer name: relu2activation, layer type: Activation, input shapes: [[None, 512]], output shape: [None, 512]\n",
      "Layer name: output_qdense, layer type: QDense, input shapes: [[None, 512]], output shape: [None, 1]\n",
      "Layer name: output_sigmoid, layer type: Activation, input shapes: [[None, 1]], output shape: [None, 1]\n",
      "Creating HLS model\n"
     ]
    },
    {
     "name": "stderr",
     "output_type": "stream",
     "text": [
      "/root/anaconda3/envs/hls4ml-tutorial/lib/python3.10/site-packages/keras/src/constraints.py:365: UserWarning: The `keras.constraints.serialize()` API should only be used for objects of type `keras.constraints.Constraint`. Found an instance of type <class 'qkeras.quantizers.quantized_bits'>, which may lead to improper serialization.\n",
      "  warnings.warn(\n"
     ]
    }
   ],
   "source": [
    "import hls4ml, plotting\n",
    "config = hls4ml.utils.config_from_keras_model(model, granularity='name')\n",
    "config['LayerName']['output_sigmoid']['exp_table_t'] = output_quantization_string\n",
    "config['LayerName']['output_sigmoid']['inv_table_t'] = output_quantization_string\n",
    "config['LayerName']['output_sigmoid']['Precision']   = output_quantization_string\n",
    "plotting.print_dict(config)\n",
    "hls_model = hls4ml.converters.convert_from_keras_model(\n",
    "    model, hls_config=config, output_dir=name + '/hls4ml_prj', part='xc7z020clg400-1',\n",
    "    input_data_tb = name + \"/Input.dat\", output_data_tb = name + \"/Output.dat\", backend='Vitis', verbose=0\n",
    ")"
   ]
  },
  {
   "cell_type": "code",
   "execution_count": 14,
   "id": "0eb370df",
   "metadata": {},
   "outputs": [],
   "source": [
    "from IPython.display import Image\n",
    "hls4ml.utils.plot_model(hls_model, show_shapes=True, show_precision=True, to_file=name + '/hls_model.png')\n",
    "#Image(name + '/hls_model.png')"
   ]
  },
  {
   "cell_type": "code",
   "execution_count": 15,
   "id": "7db79707",
   "metadata": {},
   "outputs": [
    {
     "name": "stdout",
     "output_type": "stream",
     "text": [
      "Writing HLS project\n"
     ]
    },
    {
     "name": "stderr",
     "output_type": "stream",
     "text": [
      "/root/anaconda3/envs/hls4ml-tutorial/lib/python3.10/site-packages/keras/src/constraints.py:365: UserWarning: The `keras.constraints.serialize()` API should only be used for objects of type `keras.constraints.Constraint`. Found an instance of type <class 'qkeras.quantizers.quantized_bits'>, which may lead to improper serialization.\n",
      "  warnings.warn(\n"
     ]
    },
    {
     "name": "stdout",
     "output_type": "stream",
     "text": [
      "Done\n"
     ]
    }
   ],
   "source": [
    "hls_model.compile()"
   ]
  },
  {
   "cell_type": "code",
   "execution_count": 16,
   "id": "367173a4",
   "metadata": {},
   "outputs": [],
   "source": [
    "hls_train_prediction = hls_model.predict(np.ascontiguousarray(train_data))\n",
    "hls_test_prediction = hls_model.predict(np.ascontiguousarray(test_data))"
   ]
  },
  {
   "cell_type": "code",
   "execution_count": 17,
   "id": "89ce2487",
   "metadata": {},
   "outputs": [
    {
     "data": {
      "image/png": "[encoded data removed]",
      "text/plain": [
       "<Figure size 1200x1200 with 4 Axes>"
      ]
     },
     "metadata": {},
     "output_type": "display_data"
    }
   ],
   "source": [
    "nbins = 100\n",
    "a = 0.025; b = 0.17\n",
    "for i in range(num_truths_to_use):\n",
    "    fig, ((ax1, ax2), (ax3, ax4)) = plt.subplots(nrows=2, ncols=2, figsize=(12,12))\n",
    "    ax1.hist2d(train_truth[:,i].ravel(), train_prediction[:,i].ravel(),     bins=nbins); ax1.plot([0.0, 1.0], [0.0, 1.0], color=\"red\", alpha=0.5); ax1.set_xlim(a, b); ax1.set_ylim(a, b)\n",
    "    ax2.hist2d(test_truth[:,i].ravel(),  test_prediction[:,i].ravel(),      bins=nbins); ax2.plot([0.0, 1.0], [0.0, 1.0], color=\"red\", alpha=0.5); ax2.set_xlim(a, b); ax2.set_ylim(a, b)\n",
    "    ax3.hist2d(train_truth[:,i].ravel(), hls_train_prediction[:,i].ravel(), bins=nbins); ax3.plot([0.0, 1.0], [0.0, 1.0], color=\"red\", alpha=0.5); ax3.set_xlim(a, b); ax3.set_ylim(a, b)\n",
    "    ax4.hist2d(test_truth[:,i].ravel(),  hls_test_prediction[:,i].ravel(),  bins=nbins); ax4.plot([0.0, 1.0], [0.0, 1.0], color=\"red\", alpha=0.5); ax4.set_xlim(a, b); ax4.set_ylim(a, b)\n",
    "    plt.show()\n",
    "    fig.savefig(name + \"/hist2d.\" + str(truths_to_use[i]) + \".png\")"
   ]
  },
  {
   "cell_type": "code",
   "execution_count": 18,
   "id": "28b75762",
   "metadata": {},
   "outputs": [
    {
     "name": "stdout",
     "output_type": "stream",
     "text": [
      "\n",
      "****** Vitis HLS - High-Level Synthesis from C, C++ and OpenCL v2023.1 (64-bit)\n",
      "  **** SW Build 3854077 on May  4 2023\n",
      "  **** IP Build 3864474 on Sun May  7 20:36:21 MDT 2023\n",
      "  **** SharedData Build 3865790 on Sun May 07 13:33:03 MDT 2023\n",
      "    ** Copyright 1986-2022 Xilinx, Inc. All Rights Reserved.\n",
      "    ** Copyright 2022-2023 Advanced Micro Devices, Inc. All Rights Reserved.\n",
      "\n",
      "source /opt/Xilinx/Vitis_HLS/2023.1/scripts/vitis_hls/hls.tcl -notrace\n",
      "INFO: [HLS 200-10] Running '/opt/Xilinx/Vitis_HLS/2023.1/bin/unwrapped/lnx64.o/vitis_hls'\n",
      "INFO: [HLS 200-10] For user 'root' on host '17425374c219' (Linux_x86_64 version 6.11.0-21-generic) on Tue May 06 14:49:42 EDT 2025\n",
      "INFO: [HLS 200-10] In directory '/root/build/phys476/final_project/waveform_dataset/mza_try9/hls4ml_prj'\n",
      "Sourcing Tcl script 'build_prj.tcl'\n",
      "INFO: [HLS 200-1510] Running: open_project myproject_prj \n",
      "INFO: [HLS 200-10] Opening project '/root/build/phys476/final_project/waveform_dataset/mza_try9/hls4ml_prj/myproject_prj'.\n",
      "INFO: [HLS 200-1510] Running: set_top myproject \n",
      "INFO: [HLS 200-1510] Running: add_files firmware/myproject.cpp -cflags -std=c++0x \n",
      "INFO: [HLS 200-10] Adding design file 'firmware/myproject.cpp' to the project\n",
      "INFO: [HLS 200-1510] Running: add_files -tb myproject_test.cpp -cflags -std=c++0x \n",
      "INFO: [HLS 200-10] Adding test bench file 'myproject_test.cpp' to the project\n",
      "INFO: [HLS 200-1510] Running: add_files -tb firmware/weights \n",
      "INFO: [HLS 200-10] Adding test bench file 'firmware/weights' to the project\n",
      "INFO: [HLS 200-1510] Running: add_files -tb tb_data \n",
      "INFO: [HLS 200-10] Adding test bench file 'tb_data' to the project\n",
      "INFO: [HLS 200-1510] Running: open_solution solution1 \n",
      "INFO: [HLS 200-10] Opening solution '/root/build/phys476/final_project/waveform_dataset/mza_try9/hls4ml_prj/myproject_prj/solution1'.\n",
      "INFO: [SYN 201-201] Setting up clock 'default' with a period of 5ns.\n",
      "INFO: [SYN 201-201] Setting up clock 'default' with an uncertainty of 1.35ns.\n",
      "INFO: [HLS 200-1611] Setting target device to 'xc7z020-clg400-1'\n",
      "INFO: [HLS 200-1505] Using flow_target 'vivado'\n",
      "Resolution: For help on HLS 200-1505 see www.xilinx.com/cgi-bin/docs/rdoc?v=2023.1;t=hls+guidance;d=200-1505.html\n",
      "INFO: [HLS 200-1464] Running solution command: config_compile -name_max_length=80\n",
      "INFO: [XFORM 203-1161] The maximum of name length is set to 80.\n",
      "INFO: [HLS 200-1464] Running solution command: config_compile -complex-mul-dsp=0\n",
      "INFO: [XFORM 203-1161] The maximum of name length is set to 80.\n",
      "INFO: [HLS 200-1464] Running solution command: config_schedule -enable_dsp_full_reg=0\n",
      "INFO: [HLS 200-1510] Running: config_array_partition -maximum_size 4096 \n",
      "INFO: [XFORM 203-101] Allowed max sub elements number after partition is 4096.\n",
      "ERROR: [HLS 200-642] The 'config_array_partition -maximum_size' command is not supported.\n",
      "INFO: [HLS 200-1510] Running: config_compile -name_max_length 80 \n",
      "INFO: [XFORM 203-1161] The maximum of name length is set to 80.\n",
      "INFO: [HLS 200-1510] Running: set_part xc7z020clg400-1 \n",
      "INFO: [XFORM 203-1161] The maximum of name length is set to 80.\n",
      "INFO: [HLS 200-1510] Running: config_schedule -enable_dsp_full_reg=false \n",
      "INFO: [HLS 200-1510] Running: create_clock -period 5 -name default \n",
      "INFO: [HLS 200-1510] Running: set_clock_uncertainty 27% default \n",
      "***** C SIMULATION *****\n",
      "INFO: [HLS 200-1510] Running: csim_design \n",
      "INFO: [SIM 211-2] *************** CSIM start ***************\n",
      "INFO: [SIM 211-4] CSIM will launch GCC as the compiler.\n",
      "INFO: [HLS 200-2036] Building debug C Simulation binaries\n",
      "   Compiling ../../../../myproject_test.cpp in debug mode\n",
      "   Compiling ../../../../firmware/myproject.cpp in debug mode\n",
      "   Generating csim.exe\n",
      "Processing input 0\n",
      "Predictions\n",
      "0.0610964 \n",
      "Quantized predictions\n",
      "0.306641 \n",
      "INFO: Saved inference results to file: tb_data/csim_results.log\n",
      "INFO: [SIM 211-1] CSim done with 0 errors.\n",
      "INFO: [SIM 211-3] *************** CSIM finish ***************\n",
      "INFO: [HLS 200-111] Finished Command csim_design CPU user time: 1104.59 seconds. CPU system time: 0.52 seconds. Elapsed time: 1107.93 seconds; current allocated memory: 0.000 MB.\n",
      "***** C SIMULATION COMPLETED IN 0h18m27s *****\n",
      "***** C/RTL SYNTHESIS *****\n",
      "INFO: [HLS 200-1510] Running: csynth_design \n",
      "INFO: [HLS 200-111] Finished File checks and directory preparation: CPU user time: 0.05 seconds. CPU system time: 0 seconds. Elapsed time: 0.06 seconds; current allocated memory: 1.065 GB.\n",
      "INFO: [HLS 200-10] Analyzing design file 'firmware/myproject.cpp' ... \n",
      "WARNING: [HLS 207-5531] 'Resource pragma' is deprecated, use 'bind_op/bind_storage pragma' instead (firmware/nnet_utils/nnet_dense_resource.h:33:9)\n",
      "WARNING: [HLS 207-5531] 'Resource pragma' is deprecated, use 'bind_op/bind_storage pragma' instead (firmware/nnet_utils/nnet_dense_resource.h:107:9)\n",
      "WARNING: [HLS 207-5531] 'Resource pragma' is deprecated, use 'bind_op/bind_storage pragma' instead (firmware/nnet_utils/nnet_dense_resource.h:189:9)\n",
      "WARNING: [HLS 207-5292] unused parameter 'keep' (firmware/nnet_utils/nnet_helpers.h:285:99)\n",
      "WARNING: [HLS 207-5292] unused parameter 'data' (firmware/nnet_utils/nnet_function_stubs.h:14:36)\n",
      "WARNING: [HLS 207-5292] unused parameter 'buffer' (firmware/nnet_utils/nnet_function_stubs.h:15:36)\n",
      "WARNING: [HLS 207-5292] unused parameter 'partition' (firmware/nnet_utils/nnet_function_stubs.h:16:44)\n",
      "WARNING: [HLS 207-5292] unused parameter 'data' (firmware/nnet_utils/nnet_function_stubs.h:24:24)\n",
      "WARNING: [HLS 207-5292] unused parameter 'buffer' (firmware/nnet_utils/nnet_function_stubs.h:25:24)\n",
      "WARNING: [HLS 207-5292] unused parameter 'partition' (firmware/nnet_utils/nnet_function_stubs.h:26:32)\n",
      "WARNING: [HLS 207-5292] unused parameter 'data' (firmware/nnet_utils/nnet_function_stubs.h:33:30)\n",
      "WARNING: [HLS 207-5292] unused parameter 'res' (firmware/nnet_utils/nnet_function_stubs.h:33:58)\n",
      "WARNING: [HLS 207-5292] unused parameter 'weights' (firmware/nnet_utils/nnet_function_stubs.h:34:51)\n",
      "WARNING: [HLS 207-5292] unused parameter 'biases' (firmware/nnet_utils/nnet_function_stubs.h:35:49)\n",
      "WARNING: [HLS 207-5292] unused parameter 'data' (firmware/nnet_utils/nnet_function_stubs.h:42:30)\n",
      "WARNING: [HLS 207-5292] unused parameter 'res' (firmware/nnet_utils/nnet_function_stubs.h:42:58)\n",
      "WARNING: [HLS 207-5292] unused parameter 'weights' (firmware/nnet_utils/nnet_function_stubs.h:43:51)\n",
      "WARNING: [HLS 207-5292] unused parameter 'biases' (firmware/nnet_utils/nnet_function_stubs.h:44:49)\n",
      "WARNING: [HLS 207-5292] unused parameter 'data' (firmware/nnet_utils/nnet_function_stubs.h:51:29)\n",
      "WARNING: [HLS 207-5292] unused parameter 'res' (firmware/nnet_utils/nnet_function_stubs.h:51:80)\n",
      "WARNING: [HLS 207-5292] unused parameter 'weights' (firmware/nnet_utils/nnet_function_stubs.h:52:50)\n",
      "WARNING: [HLS 207-5292] unused parameter 'biases' (firmware/nnet_utils/nnet_function_stubs.h:53:48)\n",
      "WARNING: [HLS 207-5292] unused parameter 'data' (firmware/nnet_utils/nnet_code_gen.h:16:39)\n",
      "WARNING: [HLS 207-5292] unused parameter 'res' (firmware/nnet_utils/nnet_code_gen.h:17:38)\n",
      "WARNING: [HLS 207-5292] unused parameter 'weights' (firmware/nnet_utils/nnet_code_gen.h:18:60)\n",
      "WARNING: [HLS 207-5292] unused parameter 'biases' (firmware/nnet_utils/nnet_code_gen.h:19:58)\n",
      "INFO: [HLS 200-111] Finished Source Code Analysis and Preprocessing: CPU user time: 131.11 seconds. CPU system time: 3.85 seconds. Elapsed time: 135.01 seconds; current allocated memory: 1.070 GB.\n",
      "INFO: [HLS 200-777] Using interface defaults for 'Vivado' flow target.\n",
      "INFO: [HLS 200-1995] There were 8,384 instructions in the design after the 'Compile/Link' phase of compilation. See the Design Size Report for more details: /root/build/phys476/final_project/waveform_dataset/mza_try9/hls4ml_prj/myproject_prj/solution1/syn/report/csynth_design_size.rpt\n",
      "ERROR: [HLS 200-1715] Encountered problem during source synthesis\n",
      "INFO: [HLS 200-111] Finished Command csynth_design CPU user time: 264.83 seconds. CPU system time: 11.85 seconds. Elapsed time: 283.06 seconds; current allocated memory: 5.648 MB.\n",
      "Pre-synthesis failed.\n",
      "    while executing\n",
      "\"source build_prj.tcl\"\n",
      "    (\"uplevel\" body line 1)\n",
      "    invoked from within\n",
      "\"uplevel \\#0 [list source $arg] \"\n",
      "\n",
      "INFO: [HLS 200-112] Total CPU user time: 1371.7 seconds. Total CPU system time: 12.82 seconds. Total elapsed time: 1393.59 seconds; peak allocated memory: 1.070 GB.\n",
      "INFO: [Common 17-206] Exiting vitis_hls at Tue May  6 15:12:55 2025...\n"
     ]
    },
    {
     "name": "stdout",
     "output_type": "stream",
     "text": [
      "CSynthesis report not found.\n",
      "Vivado synthesis report not found.\n",
      "Cosim report not found.\n",
      "Timing report not found.\n"
     ]
    }
   ],
   "source": [
    "if synth_hls:\n",
    "    hls_model.build(synth=True, csim=True, cosim=True) # ERROR: [HLS 200-1715] Encountered problem during source synthesis"
   ]
  },
  {
   "cell_type": "code",
   "execution_count": 19,
   "id": "594110d5",
   "metadata": {},
   "outputs": [
    {
     "name": "stdout",
     "output_type": "stream",
     "text": [
      "Found 1 solution(s) in mza_try9/hls4ml_prj/myproject_prj.\n",
      "Reports for solution \"solution1\":\n",
      "\n",
      "C SIMULATION RESULT:\n",
      "INFO: [SIM 2] *************** CSIM start ***************\n",
      "INFO: [SIM 4] CSIM will launch GCC as the compiler.\n",
      "   Compiling ../../../../myproject_test.cpp in debug mode\n",
      "   Compiling ../../../../firmware/myproject.cpp in debug mode\n",
      "   Generating csim.exe\n",
      "Processing input 0\n",
      "Predictions\n",
      "0.0610964 \n",
      "Quantized predictions\n",
      "0.306641 \n",
      "INFO: Saved inference results to file: tb_data/csim_results.log\n",
      "INFO: [SIM 1] CSim done with 0 errors.\n",
      "INFO: [SIM 3] *************** CSIM finish ***************\n",
      "\n",
      "Synthesis report not found.\n",
      "Co-simulation report not found.\n"
     ]
    }
   ],
   "source": [
    "if synth_hls:\n",
    "    hls4ml.report.read_vivado_report(name + '/hls4ml_prj')"
   ]
  }
 ],
 "metadata": {
  "kernelspec": {
   "display_name": "Python 3 (ipykernel)",
   "language": "python",
   "name": "python3"
  },
  "language_info": {
   "codemirror_mode": {
    "name": "ipython",
    "version": 3
   },
   "file_extension": ".py",
   "mimetype": "text/x-python",
   "name": "python",
   "nbconvert_exporter": "python",
   "pygments_lexer": "ipython3",
   "version": "3.10.16"
  }
 },
 "nbformat": 4,
 "nbformat_minor": 5
}
